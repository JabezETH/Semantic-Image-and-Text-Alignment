{
 "cells": [
  {
   "cell_type": "code",
   "execution_count": 1,
   "metadata": {},
   "outputs": [
    {
     "name": "stdout",
     "output_type": "stream",
     "text": [
      "Ultralytics YOLOv8.2.52 🚀 Python-3.8.10 torch-2.3.1 CPU (aarch64)\n",
      "Setup complete ✅ (16 CPUs, 30.8 GB RAM, 42.4/193.6 GB disk)\n"
     ]
    }
   ],
   "source": [
    "%pip install ultralytics\n",
    "import ultralytics\n",
    "ultralytics.checks()"
   ]
  },
  {
   "cell_type": "code",
   "execution_count": 4,
   "metadata": {},
   "outputs": [
    {
     "name": "stdout",
     "output_type": "stream",
     "text": [
      "Ultralytics YOLOv8.2.52 🚀 Python-3.8.10 torch-2.3.1 CPU (aarch64)\n",
      "YOLOv8n summary (fused): 168 layers, 3151904 parameters, 0 gradients, 8.7 GFLOPs\n",
      "\n",
      "image 1/1 /home/jabez_kassa/week_12/Semantic-Image-and-Text-Alignment/data/Assets/0a22f881b77f00220f2034c21a18b854/rev-thumbnail-mpu.jpg: 320x640 4 persons, 3 cars, 170.9ms\n",
      "Speed: 2.5ms preprocess, 170.9ms inference, 1.1ms postprocess per image at shape (1, 3, 320, 640)\n",
      "Results saved to \u001b[1m/home/jabez_kassa/week_12/Semantic-Image-and-Text-Alignment/runs/detect/predict3\u001b[0m\n",
      "💡 Learn more at https://docs.ultralytics.com/modes/predict\n"
     ]
    }
   ],
   "source": [
    "!yolo predict model=yolov8n.pt source='/home/jabez_kassa/week_12/Semantic-Image-and-Text-Alignment/data/Assets/0a22f881b77f00220f2034c21a18b854/rev-thumbnail-mpu.jpg'"
   ]
  },
  {
   "cell_type": "code",
   "execution_count": 2,
   "metadata": {},
   "outputs": [
    {
     "name": "stdout",
     "output_type": "stream",
     "text": [
      "{'id': 'chatcmpl-9jW27FGugkquGnlJzHPKK0qukNTza', 'object': 'chat.completion', 'created': 1720634923, 'model': 'gpt-4o-2024-05-13', 'choices': [{'index': 0, 'message': {'role': 'assistant', 'content': 'The image appears to be an advertisement or informational graphic for a Lexus dealership. Here are the elements present in the image:\\n\\n1. **Logo and Branding:**\\n   - The top left corner features the Lexus logo and the text \"L/Certified by Lexus.\"\\n\\n2. **Dealership Information:**\\n   - The name of the dealership, \"Lexus of Lehigh Valley.\"\\n   - The address of the dealership: 4500 Broadway, Allentown, PA.\\n\\n3. **Map:**\\n   - A small map is shown highlighting the location of the dealership.\\n   - Nearby landmarks indicated on the map:\\n     - Cetronia Ambulance Corps\\n     - St. Luke’s West End Medical Center\\n\\n4. **Car Image:**\\n   - There is an image of a Lexus car, likely to promote the brand.\\n\\nThe provided information is a mixture of text and visual elements meant to guide potential customers to the dealership location.'}, 'logprobs': None, 'finish_reason': 'stop'}], 'usage': {'prompt_tokens': 438, 'completion_tokens': 189, 'total_tokens': 627}, 'system_fingerprint': 'fp_4008e3b719'}\n"
     ]
    }
   ],
   "source": [
    "import base64\n",
    "import requests\n",
    "\n",
    "\n",
    "# Function to encode the image\n",
    "def encode_image(image_path):\n",
    "  with open(image_path, \"rb\") as image_file:\n",
    "    return base64.b64encode(image_file.read()).decode('utf-8')\n",
    "\n",
    "# Path to your image\n",
    "image_path = \"/home/jabez_kassa/week_12/Semantic-Image-and-Text-Alignment/data/Assets/0a22f881b77f00220f2034c21a18b854/end-allentown.png\"\n",
    "\n",
    "# Getting the base64 string\n",
    "base64_image = encode_image(image_path)\n",
    "\n",
    "headers = {\n",
    "  \"Content-Type\": \"application/json\",\n",
    "  \"Authorization\": f\"Bearer {api_key}\"\n",
    "}\n",
    "\n",
    "payload = {\n",
    "  \"model\": \"gpt-4o\",\n",
    "  \"messages\": [\n",
    "    {\n",
    "      \"role\": \"user\",\n",
    "      \"content\": [\n",
    "        {\n",
    "          \"type\": \"text\",\n",
    "          \"text\": \"What’s in this image?\"\n",
    "        },\n",
    "        {\n",
    "          \"type\": \"image_url\",\n",
    "          \"image_url\": {\n",
    "            \"url\": f\"data:image/jpeg;base64,{base64_image}\"\n",
    "          }\n",
    "        }\n",
    "      ]\n",
    "    }\n",
    "  ],\n",
    "  \"max_tokens\": 300\n",
    "}\n",
    "\n",
    "response = requests.post(\"https://api.openai.com/v1/chat/completions\", headers=headers, json=payload)\n",
    "\n",
    "print(response.json())"
   ]
  },
  {
   "cell_type": "code",
   "execution_count": null,
   "metadata": {},
   "outputs": [],
   "source": []
  }
 ],
 "metadata": {
  "kernelspec": {
   "display_name": "env",
   "language": "python",
   "name": "python3"
  },
  "language_info": {
   "codemirror_mode": {
    "name": "ipython",
    "version": 3
   },
   "file_extension": ".py",
   "mimetype": "text/x-python",
   "name": "python",
   "nbconvert_exporter": "python",
   "pygments_lexer": "ipython3",
   "version": "3.8.10"
  }
 },
 "nbformat": 4,
 "nbformat_minor": 2
}
